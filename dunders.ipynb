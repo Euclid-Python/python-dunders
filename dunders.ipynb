{
 "cells": [
  {
   "cell_type": "markdown",
   "metadata": {
    "slideshow": {
     "slide_type": "slide"
    }
   },
   "source": [
    "# The Python Data Model\n",
    "\n",
    "This course is focused about the _protocol_ aspect of python."
   ]
  },
  {
   "cell_type": "markdown",
   "metadata": {
    "slideshow": {
     "slide_type": "slide"
    }
   },
   "source": [
    "## The Duke Typing orientation of Python\n",
    "\n",
    "* There's no strict typing as _interface_ contract.\n",
    "* Python prefers to use the _Duck Typing_ contract."
   ]
  },
  {
   "cell_type": "markdown",
   "metadata": {
    "slideshow": {
     "slide_type": "slide"
    }
   },
   "source": [
    "<div class=\"row\">\n",
    "<div class=\"col-md-8 col-md-offset-2\">\n",
    "<div class=\"alert alert-info text-center\" style=\"font-size: larger;\">\n",
    "\"If it walks like a duck and it quacks like a duck, then it must be a duck\"\n",
    "</div>\n",
    "</div>\n",
    "</div>"
   ]
  },
  {
   "cell_type": "markdown",
   "metadata": {
    "slideshow": {
     "slide_type": "slide"
    }
   },
   "source": [
    "If a object has the requested functions **associated** to a *type* of **behavior**,  \n",
    "it's sufficient to be considered as this *type*."
   ]
  },
  {
   "cell_type": "markdown",
   "metadata": {
    "slideshow": {
     "slide_type": "slide"
    }
   },
   "source": [
    "## Comparison with interface in java\n",
    "\n",
    "It's very visible when compared to another language as java."
   ]
  },
  {
   "cell_type": "markdown",
   "metadata": {
    "slideshow": {
     "slide_type": "subslide"
    }
   },
   "source": [
    "```java\n",
    "public interface Bird {  //  <----------------- contract\n",
    "    void fly();\n",
    "}\n",
    "\n",
    "pubic class BasicBird implements Bird {\n",
    "    void fly() {\n",
    "        System.out.println(\"Look Mom, I fly\");\n",
    "    }\n",
    "}\n",
    "```"
   ]
  },
  {
   "cell_type": "markdown",
   "metadata": {
    "slideshow": {
     "slide_type": "subslide"
    }
   },
   "source": [
    "To make a collection of `Bird` flying, we do\n",
    "\n",
    "```java\n",
    "    \n",
    "// Very ugly iteration pattern, don't do this at home kids \n",
    "public static void makeThemFly(Object[] birds) {\n",
    "    for(int i=0; i < birds.length; i++) {\n",
    "        Bird bird = (Bird) birds[i];\n",
    "        bird.fly();\n",
    "    }\n",
    "}\n",
    "```\n",
    "\n",
    "```java\n",
    "...    \n",
    "birds[0] = new BasicBird();\n",
    "birds[1] = new BasicBird();\n",
    "...\n",
    "    \n",
    "makeThemFly(birds);\n",
    "```"
   ]
  },
  {
   "cell_type": "markdown",
   "metadata": {
    "slideshow": {
     "slide_type": "subslide"
    }
   },
   "source": [
    "Only sub-types of `Bird` could do the same\n",
    "\n",
    "```java\n",
    "public interface SeaBird extends Bird {\n",
    "    void fish();\n",
    "}\n",
    "\n",
    "pubic class BasicSeaBird extends BasicBird implements SeaBird {\n",
    "    void fish() {\n",
    "        System.out.println(\"Look Dad, I fish\");\n",
    "    }\n",
    "}\n",
    "```\n",
    "\n",
    "\n",
    "```java\n",
    "...    \n",
    "birds[0] = new BasicSeaBird();\n",
    "birds[1] = new BasicSeaBird();\n",
    "...\n",
    "    \n",
    "makeThemFly(birds);\n",
    "```"
   ]
  },
  {
   "cell_type": "markdown",
   "metadata": {
    "slideshow": {
     "slide_type": "subslide"
    }
   },
   "source": [
    "Now let's talk about `Plane` which can also *fly*...\n",
    "\n",
    "\n",
    "```java\n",
    "public interface Plane {\n",
    "    void fly();\n",
    "}\n",
    "```\n",
    "\n",
    "`makeThemFly` will doesn't work with a `Plane`, because a `Plane` is **not** a `Bird` !\n",
    "\n",
    "```java\n",
    "Plane plane = new Plane();\n",
    "Bird bird = (Bird) plane; // <--------------- ClassCastException !!!\n",
    "```"
   ]
  },
  {
   "cell_type": "markdown",
   "metadata": {
    "slideshow": {
     "slide_type": "subslide"
    }
   },
   "source": [
    "The logic of *java*, as all strictly typed language, is the following :\n",
    "\n",
    "* What it's your type ?\n",
    "* Ok, in this type heritance, is there a method named *fly* ?\n",
    "* Ok, I call it with parameters."
   ]
  },
  {
   "cell_type": "markdown",
   "metadata": {
    "slideshow": {
     "slide_type": "slide"
    }
   },
   "source": [
    "In *python*, we don't care !"
   ]
  },
  {
   "cell_type": "code",
   "execution_count": null,
   "metadata": {},
   "outputs": [],
   "source": [
    "class Bird:\n",
    "    def fly(self):\n",
    "        print(\"Look Mom, I fly!\")\n",
    "\n",
    "class Plane:\n",
    "    def fly(self):\n",
    "        print(\"Look Sis, I fly!\")\n",
    "\n",
    "\n",
    "for s in [Bird(), Plane()]:\n",
    "    s.fly()"
   ]
  },
  {
   "cell_type": "markdown",
   "metadata": {
    "slideshow": {
     "slide_type": "slide"
    }
   },
   "source": [
    "The logic of *python* is the following:\n",
    "\n",
    "* ~~What kind of Type are you ?~~\n",
    "* ~~Ok, in this Type heritance,~~ is there a method named _fly_ ?\n",
    "* Ok, I call it with parameters."
   ]
  },
  {
   "cell_type": "markdown",
   "metadata": {
    "slideshow": {
     "slide_type": "subslide"
    }
   },
   "source": [
    "## Python Data Model\n",
    "\n",
    "Python builds all its run engine upon this principe :\n",
    "\n",
    "- Do you have the required _method_ with the required _name_ ?\n",
    "- Does it accept the given parameters (number mainly) ?\n",
    "- Ok, I call it.\n",
    "\n",
    "**That's all.**"
   ]
  },
  {
   "cell_type": "markdown",
   "metadata": {
    "slideshow": {
     "slide_type": "subslide"
    }
   },
   "source": [
    "## Dunders\n",
    "\n",
    "Python uses a **naming convention** marking some functions as specially used.\n",
    "\n",
    "They're **prefixed** and **suffixed** with **double underscores** \n",
    "\n",
    "`__<name of function>__(parameters)`\n",
    "\n",
    "They're called \n",
    "* *special method names* \n",
    "* or *dunders*\n",
    "\n",
    "**double underscores** &rarr; **d**ouble **unders**cores &rarr; **dunders**"
   ]
  },
  {
   "cell_type": "markdown",
   "metadata": {
    "slideshow": {
     "slide_type": "subslide"
    }
   },
   "source": [
    "## Dunders examples\n",
    "\n",
    "* `__init__` &rarr; class constructor\n",
    "* `__str__` &rarr; return a human readable string representation of an object\n",
    "* `__eq__`&rarr; equality operator\n",
    "\n",
    "A complete list is available in [official documentation](https://docs.python.org/3/reference/datamodel.html#special-method-names) "
   ]
  },
  {
   "cell_type": "markdown",
   "metadata": {
    "slideshow": {
     "slide_type": "slide"
    }
   },
   "source": [
    "## Mapping\n",
    "\n",
    "To each python operator is associated a **dunder**\n",
    "\n",
    "* length : `len(o)` &rarr; `o.__len__()`\n",
    "* addition: `a + b` &rarr; `a.__add__(b)`\n",
    "* call: `f()` &rarr; `f.__call__()`\n",
    "* ..."
   ]
  },
  {
   "cell_type": "markdown",
   "metadata": {
    "slideshow": {
     "slide_type": "subslide"
    }
   },
   "source": [
    "## More complex behaviors\n",
    "\n",
    "More complex behaviors are associated to **several** dunders !"
   ]
  },
  {
   "cell_type": "markdown",
   "metadata": {
    "slideshow": {
     "slide_type": "subslide"
    }
   },
   "source": [
    "Do you know what's a **context manager** ?\n",
    "\n",
    "The `with <something> as <thing>:`\n",
    "\n",
    "```python\n",
    "with open('/path/to/file','w') as file:\n",
    "    file.write('Foo')\n",
    "```"
   ]
  },
  {
   "cell_type": "markdown",
   "metadata": {
    "slideshow": {
     "slide_type": "slide"
    }
   },
   "source": [
    "### Context Manager\n",
    "\n",
    "Context manager is associated to these [dunders](https://docs.python.org/3/reference/datamodel.html#with-statement-context-managers)\n",
    "\n",
    "* `object.__enter__(self)`(see [doc](https://docs.python.org/3/reference/datamodel.html#object.__enter__))\n",
    "* `object.__exit__(self, exc_type, exc_value, traceback)`(see [doc](https://docs.python.org/3/reference/datamodel.html#object.__exit__))\n",
    "\n",
    "It's very useful because it **never forgets to free or close used resources**. "
   ]
  },
  {
   "cell_type": "markdown",
   "metadata": {},
   "source": [
    "```\n",
    "WITH <return context manager> AS <context manager.__enter__()> :\n",
    "    # do something with AS object\n",
    "    \n",
    "# Before exit of WITH clause, call <context manager.__exit__()>\n",
    "```"
   ]
  },
  {
   "cell_type": "markdown",
   "metadata": {
    "slideshow": {
     "slide_type": "subslide"
    }
   },
   "source": [
    "Example with a context manager locking instrument and returning a buffer to store image.\n",
    "\n",
    "```python\n",
    "with Instrument.lock('VIS') as buffer:\n",
    "    buffer.append('observation.2019.01.01.fit')\n",
    "```"
   ]
  },
  {
   "cell_type": "code",
   "execution_count": null,
   "metadata": {
    "slideshow": {
     "slide_type": "subslide"
    }
   },
   "outputs": [],
   "source": [
    "REGISTRY = {'VIS': {'status': 'available'}, # <---------- Registry of all Instruments (2...)\n",
    "            'NIR': { 'status': 'available'}}\n",
    "\n",
    "class Instrument:\n",
    "    \n",
    "    def __init__(self,code):\n",
    "        self.code = code\n",
    "        self.buffer = []\n",
    "    \n",
    "    @staticmethod\n",
    "    def lock(code):         # <-------------------------- the WITH part\n",
    "        if REGISTRY[code]['status'] == 'available':\n",
    "            REGISTRY[code]['status']='engaged'\n",
    "            return Instrument(code)\n",
    "        \n",
    "        raise ValueError(f'{code} is not available')\n",
    "        \n",
    "    def __enter__(self):          #<------------------------- the AS part\n",
    "        return self.buffer\n",
    "    \n",
    "    def __exit__(self, exc_type, exc_value, traceback):#<---- the after block part\n",
    "        REGISTRY[self.code]['status'] = 'available'\n",
    "        "
   ]
  },
  {
   "cell_type": "markdown",
   "metadata": {},
   "source": [
    "The same with some print statements..."
   ]
  },
  {
   "cell_type": "code",
   "execution_count": null,
   "metadata": {
    "slideshow": {
     "slide_type": "subslide"
    }
   },
   "outputs": [],
   "source": [
    "class Instrument:\n",
    "    \n",
    "    def __init__(self,code):\n",
    "        self.code = code\n",
    "        self.buffer = []\n",
    "    \n",
    "    @staticmethod\n",
    "    def lock(code):\n",
    "        if REGISTRY[code]['status'] == 'available':\n",
    "            print(f'Observation on {code} granted') #<---------------------- Granted\n",
    "            REGISTRY[code]['status']='engaged'\n",
    "            return Instrument(code)\n",
    "        \n",
    "        raise ValueError(f'{code} is not available')\n",
    "        \n",
    "    def __enter__(self):\n",
    "        print(f'   OPEN Buffer on {self.code}') #<--------------------------- open and return buffer\n",
    "        return self.buffer\n",
    "    \n",
    "    def __exit__(self, exc_type, exc_value, traceback):\n",
    "        REGISTRY[self.code]['status'] = 'available'\n",
    "        print(f'   CLOSE buffer {self.buffer} on {self.code}') #<------------ Close buffer\n",
    "        "
   ]
  },
  {
   "cell_type": "code",
   "execution_count": null,
   "metadata": {
    "slideshow": {
     "slide_type": "subslide"
    }
   },
   "outputs": [],
   "source": [
    "print(f'Before WITH => {REGISTRY}')\n",
    "\n",
    "with Instrument.lock('VIS') as buffer:\n",
    "    print(f'   ... In With => {REGISTRY}')\n",
    "    buffer.append('observation.2019.01.01.fit')\n",
    "    \n",
    "print(f'After WITH => {REGISTRY}')\n"
   ]
  },
  {
   "cell_type": "markdown",
   "metadata": {
    "slideshow": {
     "slide_type": "slide"
    }
   },
   "source": [
    "## Subscriptable object\n",
    "\n",
    "If you would get a class that could be used as a dict.\n",
    "\n",
    "* `object.__getitem__`\n",
    "* `object.__setitem__`"
   ]
  },
  {
   "cell_type": "code",
   "execution_count": null,
   "metadata": {
    "slideshow": {
     "slide_type": "subslide"
    }
   },
   "outputs": [],
   "source": [
    "class Observation:\n",
    "    \n",
    "    def __init__(self, configuration, data):\n",
    "        self.configuration = configuration\n",
    "        self.data = data"
   ]
  },
  {
   "cell_type": "code",
   "execution_count": null,
   "metadata": {},
   "outputs": [],
   "source": [
    "obs = Observation({'date': '2019-01-01', 'temperature': '286,15K'}, data=[12.0, 14.0, 15.0])\n",
    "\n",
    "obs['date'] == '2019-01-01'"
   ]
  },
  {
   "cell_type": "markdown",
   "metadata": {
    "slideshow": {
     "slide_type": "subslide"
    }
   },
   "source": [
    "To make it **subscriptable** add a `__getitem__` method"
   ]
  },
  {
   "cell_type": "code",
   "execution_count": null,
   "metadata": {},
   "outputs": [],
   "source": [
    "class Observation:\n",
    "    \n",
    "    def __init__(self, configuration, data):\n",
    "        self.configuration = configuration\n",
    "        self.data = data\n",
    "        \n",
    "    def __getitem__(self, key):\n",
    "        if key == 'data':\n",
    "            return self.data\n",
    "        return self.configuration[key]"
   ]
  },
  {
   "cell_type": "code",
   "execution_count": null,
   "metadata": {},
   "outputs": [],
   "source": [
    "obs = Observation({'date': '2019-01-01', 'temperature': '286,15K'}, data=[12.0, 14.0, 15.0])\n",
    "\n",
    "assert obs['date'] == '2019-01-01'"
   ]
  },
  {
   "cell_type": "markdown",
   "metadata": {
    "slideshow": {
     "slide_type": "slide"
    }
   },
   "source": [
    "## Create operators\n",
    "\n",
    "It looks very scholar (we all learned this)\n",
    "\n",
    "* `+` &rarr; `__add___`\n",
    "* `*` &rarr; `__multiply___`"
   ]
  },
  {
   "cell_type": "markdown",
   "metadata": {
    "slideshow": {
     "slide_type": "subslide"
    }
   },
   "source": [
    "Imagine we want to add data to observation's data as "
   ]
  },
  {
   "cell_type": "code",
   "execution_count": null,
   "metadata": {},
   "outputs": [],
   "source": [
    "obs = Observation({'date': '2019-01-01', 'temperature': '286,15K'}, \n",
    "                  data=[12.0, 14.0, 15.0])\n",
    "\n",
    "obs + [15.6, 8.5] == [12.0, 14.0, 15.0, 15.6, 8.5]"
   ]
  },
  {
   "cell_type": "markdown",
   "metadata": {},
   "source": [
    "We have to implement `__add__`"
   ]
  },
  {
   "cell_type": "code",
   "execution_count": null,
   "metadata": {
    "slideshow": {
     "slide_type": "subslide"
    }
   },
   "outputs": [],
   "source": [
    "class Observation:\n",
    "    \n",
    "    def __init__(self, configuration, data):\n",
    "        self.configuration = configuration\n",
    "        self.data = data\n",
    "        \n",
    "    def __add__(self,o):\n",
    "        \n",
    "        res = NotImplemented #<------------ mandatory (see next) !! \n",
    "        \n",
    "        if isinstance(o, list):\n",
    "            self.data.extend(o) #<--------- list extension\n",
    "            res = self.data\n",
    "        elif isinstance(o, float):\n",
    "            self.data.append(o) #<---------- list append\n",
    "            res = self.data\n",
    "        return res"
   ]
  },
  {
   "cell_type": "code",
   "execution_count": null,
   "metadata": {},
   "outputs": [],
   "source": [
    "obs = Observation({'date': '2019-01-01', 'temperature': '286,15K'}, data=[12.0, 14.0, 15.0])\n",
    "\n",
    "assert obs + [15.6, 8.5] == [12.0, 14.0, 15.0, 15.6, 8.5]"
   ]
  },
  {
   "cell_type": "markdown",
   "metadata": {
    "slideshow": {
     "slide_type": "subslide"
    }
   },
   "source": [
    "And what if we want the inversed order operation ?\n",
    "\n",
    "```list + observation -> list```"
   ]
  },
  {
   "cell_type": "code",
   "execution_count": null,
   "metadata": {},
   "outputs": [],
   "source": [
    "obs = Observation({'date': '2019-01-01', 'temperature': '286,15K'}, data=[12.0, 14.0, 15.0])\n",
    "\n",
    "assert [15.6, 8.5] + obs == [12.0, 14.0, 15.0, 15.6, 8.5]"
   ]
  },
  {
   "cell_type": "markdown",
   "metadata": {
    "slideshow": {
     "slide_type": "subslide"
    }
   },
   "source": [
    "We have to implement `__radd__`, the *right-hand* addition.\n",
    "\n",
    "Python does the following for `a + b`\n",
    "\n",
    "* it tries `a.__add__(b)`\n",
    "* if it **returns** `NotImplemented`, it tries `b.__radd__(a)`\n",
    "\n",
    "That's why returning `NotImplemented` is **mandatory**."
   ]
  },
  {
   "cell_type": "code",
   "execution_count": null,
   "metadata": {
    "slideshow": {
     "slide_type": "subslide"
    }
   },
   "outputs": [],
   "source": [
    "class Observation:\n",
    "    \n",
    "    def __init__(self, configuration, data):\n",
    "        self.configuration = configuration\n",
    "        self.data = data\n",
    "        \n",
    "    def __add__(self,o):\n",
    "        \n",
    "        res = NotImplemented #<------------ mandatory !! \n",
    "        \n",
    "        if isinstance(o, list):\n",
    "            self.data.extend(o)\n",
    "            res = self.data\n",
    "        elif isinstance(o, float):\n",
    "            self.data.append(o)\n",
    "            res = self.data\n",
    "        return res\n",
    "    \n",
    "    def __radd__(self,o):\n",
    "        return self.__add__(o)"
   ]
  },
  {
   "cell_type": "code",
   "execution_count": null,
   "metadata": {
    "slideshow": {
     "slide_type": "subslide"
    }
   },
   "outputs": [],
   "source": [
    "obs = Observation({'date': '2019-01-01', 'temperature': '286,15K'}, data=[12.0, 14.0, 15.0])\n",
    "\n",
    "assert [15.6, 8.5] + obs == [12.0, 14.0, 15.0, 15.6, 8.5]"
   ]
  },
  {
   "cell_type": "markdown",
   "metadata": {
    "slideshow": {
     "slide_type": "slide"
    }
   },
   "source": [
    "# Conclusion\n",
    "\n",
    "The dunders are at the heart of python.\n",
    "\n",
    "Don't take them for some *syntaxic sugars* and *funny toys*.\n",
    "\n",
    "That's how Python works, and if you want to hack it, take a look at them."
   ]
  }
 ],
 "metadata": {
  "celltoolbar": "Diaporama",
  "kernelspec": {
   "display_name": "Python 3",
   "language": "python",
   "name": "python3"
  },
  "language_info": {
   "codemirror_mode": {
    "name": "ipython",
    "version": 3
   },
   "file_extension": ".py",
   "mimetype": "text/x-python",
   "name": "python",
   "nbconvert_exporter": "python",
   "pygments_lexer": "ipython3",
   "version": "3.6.8"
  },
  "toc": {
   "base_numbering": 1,
   "nav_menu": {},
   "number_sections": false,
   "sideBar": true,
   "skip_h1_title": false,
   "title_cell": "Table of Contents",
   "title_sidebar": "Contents",
   "toc_cell": false,
   "toc_position": {},
   "toc_section_display": true,
   "toc_window_display": false
  }
 },
 "nbformat": 4,
 "nbformat_minor": 2
}
